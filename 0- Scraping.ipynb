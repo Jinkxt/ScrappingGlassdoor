{
 "cells": [
  {
   "cell_type": "code",
   "execution_count": 1,
   "metadata": {},
   "outputs": [],
   "source": [
    "from selenium import webdriver\n",
    "from selenium.webdriver.chrome.service import Service\n",
    "from selenium.webdriver.common.by import By\n",
    "from selenium.webdriver.chrome.options import Options\n",
    "from selenium.webdriver.support.ui import WebDriverWait\n",
    "from selenium.webdriver.support import expected_conditions as EC\n",
    "from selenium.webdriver.common.desired_capabilities import DesiredCapabilities\n",
    "\n",
    "from time import sleep\n",
    "import pandas as pd\n",
    "import numpy as np\n"
   ]
  },
  {
   "cell_type": "code",
   "execution_count": 2,
   "metadata": {},
   "outputs": [],
   "source": [
    "# Set the path to your ChromeDriver executable\n",
    "webdriver_path = 'C:\\Program Files\\ChromeDriver\\chromedriver.exe'\n",
    "\n",
    "# Configure Chrome options\n",
    "chrome_options = Options()\n",
    "#chrome_options.add_argument(--headless)  # Run Chrome in headless mode\n",
    "\n",
    "# Create a new ChromeDriver instance\n",
    "driver = webdriver.Chrome(service=Service(executable_path=webdriver_path), options=chrome_options)\n"
   ]
  },
  {
   "cell_type": "code",
   "execution_count": null,
   "metadata": {},
   "outputs": [],
   "source": [
    "driver.quit()\n",
    "driver = webdriver.Chrome(service=Service(executable_path=webdriver_path), options=chrome_options)\n",
    "base_url = 'https://www.glassdoor.fr/salaire/Dassault-Systemes-Salaires-E6162_P{}.htm'\n",
    "\n",
    "max_pages=40\n",
    "page=0\n",
    "datalist=[]\n",
    "\n",
    "\n",
    "# Loop through the pages\n",
    "while page < max_pages: #element.is_displayed():\n",
    "    page+=1\n",
    "    url=base_url.format(page)\n",
    "    driver.get(url)\n",
    "    sleep (2)\n",
    "    # Find the elements that contain the article titles\n",
    "    element = driver.find_element(By.ID, 'SalariesRef') \n",
    "    for i , child_element in enumerate (element.find_elements(By.XPATH, './*')):\n",
    "        try:\n",
    "            Nature=child_element.find_element(By.XPATH, 'div/div[1]/div/span').text\n",
    "        except:\n",
    "            Nature=\"\"\n",
    "\n",
    "        try:\n",
    "            Bonus=child_element.find_element(By.XPATH, 'div/div[2]/div[2]/div[2]/div[2]/span[1]/strong/strong').text\n",
    "        except:\n",
    "            try:\n",
    "                Bonus= child_element.find_element(By.XPATH, 'div/div[2]/div[2]/div[2]/div[2]/span[2]/strong').text\n",
    "            except:\n",
    "                Bonus= 0    \n",
    "        try:\n",
    "            Salary= child_element.find_element(By.XPATH, 'div/div[2]/div[1]/span[1]/span/strong/strong').text\n",
    "        except:\n",
    "            Salary= child_element.find_element(By.XPATH, 'div/div[2]/div[1]/span[1]/span[2]/strong').text                              \n",
    "        try:\n",
    "            Base_Salary= child_element.find_element(By.XPATH, 'div/div[2]/div[2]/div[2]/div[1]/span[1]/strong/strong').text\n",
    "        except:\n",
    "            try:\n",
    "                Base_Salary= child_element.find_element(By.XPATH, 'div/div[2]/div[2]/div[2]/div[1]/span[2]/strong').text\n",
    "            except:\n",
    "                Base_Salary= np.NAN    \n",
    "        dic={'Position'   :child_element.find_element(By.XPATH, 'div/div[1]/div/a/strong').text,\\\n",
    "            'Nature'     :Nature,\\\n",
    "            'Salary'     :Salary , \\\n",
    "            'Base Salary':Base_Salary,\n",
    "            'Bonus'      :Bonus }\n",
    "        \n",
    "        datalist.append(dic)\n",
    "    driver.delete_all_cookies()\n",
    "driver.quit()\n",
    "df=pd.DataFrame(datalist)\n",
    "df.to_csv('Dassault system salaries.csv', index=False, encoding = 'utf-8-sig')\n",
    "df.head()\n"
   ]
  },
  {
   "cell_type": "code",
   "execution_count": null,
   "metadata": {},
   "outputs": [],
   "source": []
  }
 ],
 "metadata": {
  "kernelspec": {
   "display_name": "Python 3",
   "language": "python",
   "name": "python3"
  },
  "language_info": {
   "codemirror_mode": {
    "name": "ipython",
    "version": 3
   },
   "file_extension": ".py",
   "mimetype": "text/x-python",
   "name": "python",
   "nbconvert_exporter": "python",
   "pygments_lexer": "ipython3",
   "version": "3.11.1"
  },
  "orig_nbformat": 4
 },
 "nbformat": 4,
 "nbformat_minor": 2
}
